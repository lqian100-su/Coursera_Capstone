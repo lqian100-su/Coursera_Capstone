{
 "cells": [
  {
   "cell_type": "markdown",
   "metadata": {},
   "source": [
    "# Applied Data Science Capstone"
   ]
  },
  {
   "cell_type": "markdown",
   "metadata": {},
   "source": [
    "## Introduction"
   ]
  },
  {
   "cell_type": "markdown",
   "metadata": {},
   "source": [
    "As the most commonly used transports, automobiles play an important role in daily life. People drive cars to work, study, travel, and even move house. With the widespread use of automobiles, the possibility of traffic accidents increases inevitably. Besides, the environmental factors including weather, location light, and more will also affect the probability of accidents. \n",
    "\n",
    "However, sometimes emergency departments are hard to evaluate severity when they received the call from on-site which may cause irreparable loss and even people's death. Based on the situation, predict the severity is one of the crucial points.\n",
    "\n",
    "To help the people who are involved in the accidents, this project will utilize certain know conditions to predict the severity of the accidents and reduce the risks of accidents happen by taking actions. "
   ]
  },
  {
   "cell_type": "markdown",
   "metadata": {},
   "source": [
    "## Data Description "
   ]
  },
  {
   "cell_type": "markdown",
   "metadata": {},
   "source": [
    "To address the problem, the weekly collision from 2004 to present in Seattle is going to be used in this case.\n",
    "The original dataset is a csv file and can be found <a href=\"https://s3.us.cloud-object-storage.appdomain.cloud/cf-courses-data/CognitiveClass/DP0701EN/version-2/Data-Collisions.csv\" target=\"_blank\">here</a>. Also, there is a <a href=\"https://s3.us.cloud-object-storage.appdomain.cloud/cf-courses-data/CognitiveClass/DP0701EN/version-2/Metadata.pdf\" target=\"_blank\">metedata form</a> to give   the basic information about the dataset."
   ]
  },
  {
   "cell_type": "markdown",
   "metadata": {},
   "source": [
    "There are total 194,673 rows and 38 columns in the dataset. Here is the list of all the columns (features):\n",
    "\n",
    "|      FIELD     |  TYPE   |      FIELD     |  TYPE   |      FIELD     |  TYPE   |      FIELD     |  TYPE   |\n",
    "|----------------|---------|----------------|---------|----------------|---------|----------------|---------|\n",
    "|  SEVERITYCODE  |  int64  |        X       | float64 |        Y       | float64 |    OBJECTID    |  int64  |\n",
    "|     INCKEY     |  int64  |    COLDETKEY   |  int64  |    REPORTNO    |  object |     STATUS     |  object |\n",
    "|    ADDRTYPE    |  object |      INTKEY    | float64 |    LOCATION    |  object |  EXCEPTRSNCODE |  object |\n",
    "| EXCEPTRSNDESC  |  object | SEVERITYCODE.1 |  int64  |  SEVERITYDESC  |  object |  COLLISIONTYPE |  object |\n",
    "|   PERSONCOUNT  |  int64  |     PEDCOUNT   |  int64  |   PEDCYLCOUNT  |  int64  |     VEHCOUNT   |  int64  |\n",
    "|     INCDATE    |  object |     INCDTTM    |  object |  JUNCTIONTYPE  |  object |  SDOT_COLCODE  |  int64  |\n",
    "|  SDOT_COLDESC  |  int64  | INATTENTIONIND |  object |    UNDERINFL   |  object |     WEATHER    |  object |\n",
    "|    ROADCOND    |  object |    LIGHTCOND   |  object |  PEDROWNOTGRNT |  object |    SDOTCOLNUM  | float64 |\n",
    "|    SPEEDING    |  object |   ST_COLCODE   |  object |   ST_COLDESC   |  object |    SEGLANEKEY  |  int64  |\n",
    "|  CROSSWALKKEY  |  int64  |  HITPARKEDCAR  |  object |     |  |      |  |"
   ]
  },
  {
   "cell_type": "markdown",
   "metadata": {},
   "source": [
    "In this project, the first column \"SEVERITYCODE\" is the target variable that will be predicted by other fields. According to the metadata file, there are a total of 5 codes that correspond to the severity. However, there are only two types recorded in the dataset: code 1 and code 2. There is 136,485 number of code 1 and it stands for \"prop damage\". 58,188 observations represent \"injury\" as code 2."
   ]
  },
  {
   "cell_type": "markdown",
   "metadata": {},
   "source": [
    "## Data Preprocessing"
   ]
  },
  {
   "cell_type": "code",
   "execution_count": 1,
   "metadata": {},
   "outputs": [],
   "source": [
    "# import modules\n",
    "%matplotlib inline\n",
    "import pandas as pd\n",
    "import numpy as np\n",
    "import matplotlib.pyplot as plt"
   ]
  },
  {
   "cell_type": "code",
   "execution_count": 2,
   "metadata": {
    "scrolled": true
   },
   "outputs": [
    {
     "name": "stderr",
     "output_type": "stream",
     "text": [
      "/Users/liuqi/anaconda3/lib/python3.7/site-packages/IPython/core/interactiveshell.py:3057: DtypeWarning: Columns (33) have mixed types. Specify dtype option on import or set low_memory=False.\n",
      "  interactivity=interactivity, compiler=compiler, result=result)\n"
     ]
    }
   ],
   "source": [
    "# import data\n",
    "file_path = \"/Users/liuqi/Desktop/projects/Coursera_Capstone/Data-Collisions.csv\"\n",
    "df = pd.read_csv(file_path)"
   ]
  },
  {
   "cell_type": "code",
   "execution_count": 3,
   "metadata": {},
   "outputs": [
    {
     "data": {
      "text/plain": [
       "(194673, 38)"
      ]
     },
     "execution_count": 3,
     "metadata": {},
     "output_type": "execute_result"
    }
   ],
   "source": [
    "df.shape"
   ]
  },
  {
   "cell_type": "code",
   "execution_count": 4,
   "metadata": {},
   "outputs": [
    {
     "data": {
      "text/html": [
       "<div>\n",
       "<style scoped>\n",
       "    .dataframe tbody tr th:only-of-type {\n",
       "        vertical-align: middle;\n",
       "    }\n",
       "\n",
       "    .dataframe tbody tr th {\n",
       "        vertical-align: top;\n",
       "    }\n",
       "\n",
       "    .dataframe thead th {\n",
       "        text-align: right;\n",
       "    }\n",
       "</style>\n",
       "<table border=\"1\" class=\"dataframe\">\n",
       "  <thead>\n",
       "    <tr style=\"text-align: right;\">\n",
       "      <th></th>\n",
       "      <th>SEVERITYCODE</th>\n",
       "      <th>X</th>\n",
       "      <th>Y</th>\n",
       "      <th>OBJECTID</th>\n",
       "      <th>INCKEY</th>\n",
       "      <th>COLDETKEY</th>\n",
       "      <th>REPORTNO</th>\n",
       "      <th>STATUS</th>\n",
       "      <th>ADDRTYPE</th>\n",
       "      <th>INTKEY</th>\n",
       "      <th>...</th>\n",
       "      <th>ROADCOND</th>\n",
       "      <th>LIGHTCOND</th>\n",
       "      <th>PEDROWNOTGRNT</th>\n",
       "      <th>SDOTCOLNUM</th>\n",
       "      <th>SPEEDING</th>\n",
       "      <th>ST_COLCODE</th>\n",
       "      <th>ST_COLDESC</th>\n",
       "      <th>SEGLANEKEY</th>\n",
       "      <th>CROSSWALKKEY</th>\n",
       "      <th>HITPARKEDCAR</th>\n",
       "    </tr>\n",
       "  </thead>\n",
       "  <tbody>\n",
       "    <tr>\n",
       "      <th>0</th>\n",
       "      <td>2</td>\n",
       "      <td>-122.323148</td>\n",
       "      <td>47.703140</td>\n",
       "      <td>1</td>\n",
       "      <td>1307</td>\n",
       "      <td>1307</td>\n",
       "      <td>3502005</td>\n",
       "      <td>Matched</td>\n",
       "      <td>Intersection</td>\n",
       "      <td>37475.0</td>\n",
       "      <td>...</td>\n",
       "      <td>Wet</td>\n",
       "      <td>Daylight</td>\n",
       "      <td>NaN</td>\n",
       "      <td>NaN</td>\n",
       "      <td>NaN</td>\n",
       "      <td>10</td>\n",
       "      <td>Entering at angle</td>\n",
       "      <td>0</td>\n",
       "      <td>0</td>\n",
       "      <td>N</td>\n",
       "    </tr>\n",
       "    <tr>\n",
       "      <th>1</th>\n",
       "      <td>1</td>\n",
       "      <td>-122.347294</td>\n",
       "      <td>47.647172</td>\n",
       "      <td>2</td>\n",
       "      <td>52200</td>\n",
       "      <td>52200</td>\n",
       "      <td>2607959</td>\n",
       "      <td>Matched</td>\n",
       "      <td>Block</td>\n",
       "      <td>NaN</td>\n",
       "      <td>...</td>\n",
       "      <td>Wet</td>\n",
       "      <td>Dark - Street Lights On</td>\n",
       "      <td>NaN</td>\n",
       "      <td>6354039.0</td>\n",
       "      <td>NaN</td>\n",
       "      <td>11</td>\n",
       "      <td>From same direction - both going straight - bo...</td>\n",
       "      <td>0</td>\n",
       "      <td>0</td>\n",
       "      <td>N</td>\n",
       "    </tr>\n",
       "    <tr>\n",
       "      <th>2</th>\n",
       "      <td>1</td>\n",
       "      <td>-122.334540</td>\n",
       "      <td>47.607871</td>\n",
       "      <td>3</td>\n",
       "      <td>26700</td>\n",
       "      <td>26700</td>\n",
       "      <td>1482393</td>\n",
       "      <td>Matched</td>\n",
       "      <td>Block</td>\n",
       "      <td>NaN</td>\n",
       "      <td>...</td>\n",
       "      <td>Dry</td>\n",
       "      <td>Daylight</td>\n",
       "      <td>NaN</td>\n",
       "      <td>4323031.0</td>\n",
       "      <td>NaN</td>\n",
       "      <td>32</td>\n",
       "      <td>One parked--one moving</td>\n",
       "      <td>0</td>\n",
       "      <td>0</td>\n",
       "      <td>N</td>\n",
       "    </tr>\n",
       "    <tr>\n",
       "      <th>3</th>\n",
       "      <td>1</td>\n",
       "      <td>-122.334803</td>\n",
       "      <td>47.604803</td>\n",
       "      <td>4</td>\n",
       "      <td>1144</td>\n",
       "      <td>1144</td>\n",
       "      <td>3503937</td>\n",
       "      <td>Matched</td>\n",
       "      <td>Block</td>\n",
       "      <td>NaN</td>\n",
       "      <td>...</td>\n",
       "      <td>Dry</td>\n",
       "      <td>Daylight</td>\n",
       "      <td>NaN</td>\n",
       "      <td>NaN</td>\n",
       "      <td>NaN</td>\n",
       "      <td>23</td>\n",
       "      <td>From same direction - all others</td>\n",
       "      <td>0</td>\n",
       "      <td>0</td>\n",
       "      <td>N</td>\n",
       "    </tr>\n",
       "    <tr>\n",
       "      <th>4</th>\n",
       "      <td>2</td>\n",
       "      <td>-122.306426</td>\n",
       "      <td>47.545739</td>\n",
       "      <td>5</td>\n",
       "      <td>17700</td>\n",
       "      <td>17700</td>\n",
       "      <td>1807429</td>\n",
       "      <td>Matched</td>\n",
       "      <td>Intersection</td>\n",
       "      <td>34387.0</td>\n",
       "      <td>...</td>\n",
       "      <td>Wet</td>\n",
       "      <td>Daylight</td>\n",
       "      <td>NaN</td>\n",
       "      <td>4028032.0</td>\n",
       "      <td>NaN</td>\n",
       "      <td>10</td>\n",
       "      <td>Entering at angle</td>\n",
       "      <td>0</td>\n",
       "      <td>0</td>\n",
       "      <td>N</td>\n",
       "    </tr>\n",
       "  </tbody>\n",
       "</table>\n",
       "<p>5 rows × 38 columns</p>\n",
       "</div>"
      ],
      "text/plain": [
       "   SEVERITYCODE           X          Y  OBJECTID  INCKEY  COLDETKEY REPORTNO  \\\n",
       "0             2 -122.323148  47.703140         1    1307       1307  3502005   \n",
       "1             1 -122.347294  47.647172         2   52200      52200  2607959   \n",
       "2             1 -122.334540  47.607871         3   26700      26700  1482393   \n",
       "3             1 -122.334803  47.604803         4    1144       1144  3503937   \n",
       "4             2 -122.306426  47.545739         5   17700      17700  1807429   \n",
       "\n",
       "    STATUS      ADDRTYPE   INTKEY  ... ROADCOND                LIGHTCOND  \\\n",
       "0  Matched  Intersection  37475.0  ...      Wet                 Daylight   \n",
       "1  Matched         Block      NaN  ...      Wet  Dark - Street Lights On   \n",
       "2  Matched         Block      NaN  ...      Dry                 Daylight   \n",
       "3  Matched         Block      NaN  ...      Dry                 Daylight   \n",
       "4  Matched  Intersection  34387.0  ...      Wet                 Daylight   \n",
       "\n",
       "  PEDROWNOTGRNT  SDOTCOLNUM SPEEDING ST_COLCODE  \\\n",
       "0           NaN         NaN      NaN         10   \n",
       "1           NaN   6354039.0      NaN         11   \n",
       "2           NaN   4323031.0      NaN         32   \n",
       "3           NaN         NaN      NaN         23   \n",
       "4           NaN   4028032.0      NaN         10   \n",
       "\n",
       "                                          ST_COLDESC  SEGLANEKEY  \\\n",
       "0                                  Entering at angle           0   \n",
       "1  From same direction - both going straight - bo...           0   \n",
       "2                             One parked--one moving           0   \n",
       "3                   From same direction - all others           0   \n",
       "4                                  Entering at angle           0   \n",
       "\n",
       "   CROSSWALKKEY  HITPARKEDCAR  \n",
       "0             0             N  \n",
       "1             0             N  \n",
       "2             0             N  \n",
       "3             0             N  \n",
       "4             0             N  \n",
       "\n",
       "[5 rows x 38 columns]"
      ]
     },
     "execution_count": 4,
     "metadata": {},
     "output_type": "execute_result"
    }
   ],
   "source": [
    "# Check the top 5 rows\n",
    "df.head()"
   ]
  },
  {
   "cell_type": "markdown",
   "metadata": {},
   "source": [
    "* Since the \"SEVERITYCODE\", \"SEVERITYCODE.1\" as well as the \"SEVERITYDESC\" describe the same point, only the \"SEVERITYCODE\" column will be kept. \n",
    "* \"OBJECTID\", \"INCKEY\", \"COLDETKEY\", \"REPORTNO\", \"SEGLANEKEY\", \"CROSSWALKKEY\" are the specific keys for incidents which are meaningless in this project, all six columns will be dropped."
   ]
  },
  {
   "cell_type": "code",
   "execution_count": 5,
   "metadata": {},
   "outputs": [
    {
     "name": "stdout",
     "output_type": "stream",
     "text": [
      "INTKEY            66.574718\n",
      "EXCEPTRSNCODE     56.434123\n",
      "EXCEPTRSNDESC     97.103861\n",
      "INATTENTIONIND    84.689710\n",
      "PEDROWNOTGRNT     97.602646\n",
      "SDOTCOLNUM        40.959455\n",
      "SPEEDING          95.205807\n",
      "dtype: float64\n"
     ]
    }
   ],
   "source": [
    "# check the na value\n",
    "nulls = df.isnull().sum() /df.shape[0]*100\n",
    "nulls = nulls[nulls > 40]\n",
    "print(nulls)"
   ]
  },
  {
   "cell_type": "markdown",
   "metadata": {},
   "source": [
    "* After checking the NA number in each column, there are seven fields that have more than 40% of the missing values including \"INTKEY\", \"EXCEPTRSNCODE\", \"EXCEPTRSNDESC\", \"INATTENTIONIND\", \"PEDROWNOTGRNT\", \"SDOTCOLNUM\", SPEEDING\". These columns will be dropped in this project."
   ]
  },
  {
   "cell_type": "markdown",
   "metadata": {},
   "source": [
    "* The \"WEATHER\" column is realated to the \"ROADCOND\" so only \"ROADCOND\" will be kept\n",
    "* \"X\", \"Y\" columns are describing the geographic point of the \"LOCATION\" so only \"LOCATION\" will be kept\n",
    "* \"INCDTTM\" includes the information in the \"INCDATE\" and only \"INCDTTM\" will be kept\n",
    "* \"PEDCOUNT\" and \"PEDCYLCOUNT\" are related to \"COLLISIONTYPE\" and only \"COLLISIONTYPE\" will be kept\n",
    "* \"ST_COLCODE\" includes the information in the \"HITPARKEDCAR\" so \"HITPARKEDCAR\" will be dropped\n",
    "* \"COLLISTIONTYPE\" includes the information about \"STOD_COLCODE\", \"STOD_COLDESC\", \"ST_COLCODE\" as well as \"ST_CODESC\", and only \"COLLISTIONTYPE\" will be kept\n",
    "* \"JUNCTIONTYPE\" is similar to \"ADDTYPE\" and only \"ADDTYPE\" will be kept\n",
    "* \"STATUS\" is meaningless in this project and will be dropped\n",
    "* \"LOCATION\" is too massive in this project and will be dropped"
   ]
  },
  {
   "cell_type": "code",
   "execution_count": 6,
   "metadata": {},
   "outputs": [
    {
     "name": "stdout",
     "output_type": "stream",
     "text": [
      "(194673, 9)\n"
     ]
    }
   ],
   "source": [
    "droplist = ['X','Y','OBJECTID', 'INCKEY', 'COLDETKEY', 'REPORTNO','STATUS', 'INTKEY', 'EXCEPTRSNCODE',\n",
    "            'LOCATION', 'EXCEPTRSNDESC', 'SEVERITYCODE.1', 'SEVERITYDESC', 'PEDCOUNT', 'PEDCYLCOUNT', \n",
    "            'INCDATE','JUNCTIONTYPE', 'SDOT_COLCODE', 'SDOT_COLDESC','INATTENTIONIND', 'WEATHER',\n",
    "            'PEDROWNOTGRNT', 'SDOTCOLNUM', 'SPEEDING', 'ST_COLDESC','SEGLANEKEY', 'CROSSWALKKEY', \n",
    "            'HITPARKEDCAR',\"ST_COLCODE\"]\n",
    "for i in droplist:\n",
    "    del df[i]\n",
    "print(df.shape)"
   ]
  },
  {
   "cell_type": "markdown",
   "metadata": {},
   "source": [
    "After dropping the columns, there are only 9 columns left. "
   ]
  },
  {
   "cell_type": "code",
   "execution_count": 7,
   "metadata": {},
   "outputs": [
    {
     "data": {
      "text/html": [
       "<div>\n",
       "<style scoped>\n",
       "    .dataframe tbody tr th:only-of-type {\n",
       "        vertical-align: middle;\n",
       "    }\n",
       "\n",
       "    .dataframe tbody tr th {\n",
       "        vertical-align: top;\n",
       "    }\n",
       "\n",
       "    .dataframe thead th {\n",
       "        text-align: right;\n",
       "    }\n",
       "</style>\n",
       "<table border=\"1\" class=\"dataframe\">\n",
       "  <thead>\n",
       "    <tr style=\"text-align: right;\">\n",
       "      <th></th>\n",
       "      <th>SEVERITYCODE</th>\n",
       "      <th>ADDRTYPE</th>\n",
       "      <th>COLLISIONTYPE</th>\n",
       "      <th>PERSONCOUNT</th>\n",
       "      <th>VEHCOUNT</th>\n",
       "      <th>INCDTTM</th>\n",
       "      <th>UNDERINFL</th>\n",
       "      <th>ROADCOND</th>\n",
       "      <th>LIGHTCOND</th>\n",
       "    </tr>\n",
       "  </thead>\n",
       "  <tbody>\n",
       "    <tr>\n",
       "      <th>0</th>\n",
       "      <td>2</td>\n",
       "      <td>Intersection</td>\n",
       "      <td>Angles</td>\n",
       "      <td>2</td>\n",
       "      <td>2</td>\n",
       "      <td>3/27/13 14:54</td>\n",
       "      <td>N</td>\n",
       "      <td>Wet</td>\n",
       "      <td>Daylight</td>\n",
       "    </tr>\n",
       "    <tr>\n",
       "      <th>1</th>\n",
       "      <td>1</td>\n",
       "      <td>Block</td>\n",
       "      <td>Sideswipe</td>\n",
       "      <td>2</td>\n",
       "      <td>2</td>\n",
       "      <td>12/20/06 18:55</td>\n",
       "      <td>0</td>\n",
       "      <td>Wet</td>\n",
       "      <td>Dark - Street Lights On</td>\n",
       "    </tr>\n",
       "    <tr>\n",
       "      <th>2</th>\n",
       "      <td>1</td>\n",
       "      <td>Block</td>\n",
       "      <td>Parked Car</td>\n",
       "      <td>4</td>\n",
       "      <td>3</td>\n",
       "      <td>11/18/04 10:20</td>\n",
       "      <td>0</td>\n",
       "      <td>Dry</td>\n",
       "      <td>Daylight</td>\n",
       "    </tr>\n",
       "    <tr>\n",
       "      <th>3</th>\n",
       "      <td>1</td>\n",
       "      <td>Block</td>\n",
       "      <td>Other</td>\n",
       "      <td>3</td>\n",
       "      <td>3</td>\n",
       "      <td>3/29/13 09:26</td>\n",
       "      <td>N</td>\n",
       "      <td>Dry</td>\n",
       "      <td>Daylight</td>\n",
       "    </tr>\n",
       "    <tr>\n",
       "      <th>4</th>\n",
       "      <td>2</td>\n",
       "      <td>Intersection</td>\n",
       "      <td>Angles</td>\n",
       "      <td>2</td>\n",
       "      <td>2</td>\n",
       "      <td>1/28/04 08:04</td>\n",
       "      <td>0</td>\n",
       "      <td>Wet</td>\n",
       "      <td>Daylight</td>\n",
       "    </tr>\n",
       "  </tbody>\n",
       "</table>\n",
       "</div>"
      ],
      "text/plain": [
       "   SEVERITYCODE      ADDRTYPE COLLISIONTYPE  PERSONCOUNT  VEHCOUNT  \\\n",
       "0             2  Intersection        Angles            2         2   \n",
       "1             1         Block     Sideswipe            2         2   \n",
       "2             1         Block    Parked Car            4         3   \n",
       "3             1         Block         Other            3         3   \n",
       "4             2  Intersection        Angles            2         2   \n",
       "\n",
       "          INCDTTM UNDERINFL ROADCOND                LIGHTCOND  \n",
       "0   3/27/13 14:54         N      Wet                 Daylight  \n",
       "1  12/20/06 18:55         0      Wet  Dark - Street Lights On  \n",
       "2  11/18/04 10:20         0      Dry                 Daylight  \n",
       "3   3/29/13 09:26         N      Dry                 Daylight  \n",
       "4   1/28/04 08:04         0      Wet                 Daylight  "
      ]
     },
     "execution_count": 7,
     "metadata": {},
     "output_type": "execute_result"
    }
   ],
   "source": [
    "df.head()"
   ]
  },
  {
   "cell_type": "code",
   "execution_count": 8,
   "metadata": {},
   "outputs": [
    {
     "data": {
      "text/plain": [
       "SEVERITYCODE        0\n",
       "ADDRTYPE         1926\n",
       "COLLISIONTYPE    4904\n",
       "PERSONCOUNT         0\n",
       "VEHCOUNT            0\n",
       "INCDTTM             0\n",
       "UNDERINFL        4884\n",
       "ROADCOND         5012\n",
       "LIGHTCOND        5170\n",
       "dtype: int64"
      ]
     },
     "execution_count": 8,
     "metadata": {},
     "output_type": "execute_result"
    }
   ],
   "source": [
    "# Check NA \n",
    "df.isna().sum()"
   ]
  },
  {
   "cell_type": "markdown",
   "metadata": {},
   "source": [
    "Since there are still many NA values and there are total 194673 records, the rows which contains NA values will be dropped"
   ]
  },
  {
   "cell_type": "code",
   "execution_count": 9,
   "metadata": {},
   "outputs": [
    {
     "data": {
      "text/plain": [
       "(187609, 9)"
      ]
     },
     "execution_count": 9,
     "metadata": {},
     "output_type": "execute_result"
    }
   ],
   "source": [
    "df = df.dropna(axis=0)\n",
    "df.shape"
   ]
  },
  {
   "cell_type": "markdown",
   "metadata": {},
   "source": [
    "### Convert data type"
   ]
  },
  {
   "cell_type": "markdown",
   "metadata": {},
   "source": [
    "Since the \"INCDTTM\" is meaningless but the month and the hour time makes senses, we will extract the month and hour value from the \"INCDTTM\" column"
   ]
  },
  {
   "cell_type": "code",
   "execution_count": 10,
   "metadata": {},
   "outputs": [],
   "source": [
    "df[\"INCDTTM\"]=df[\"INCDTTM\"].str[:50]\n",
    "df[[\"MDY\",\"TIME\"]]=df[\"INCDTTM\"].str.split(\" \", expand=True)\n",
    "df[[\"MONTH\",\"day\",\"year\"]]=df[\"MDY\"].str.split(\"/\", expand=True)\n",
    "df[[\"HOUR\",\"minutes\"]]=df[\"TIME\"].str.split(\":\", expand=True)\n",
    "list2 = [\"INCDTTM\",\"MDY\",\"TIME\",\"day\",\"year\",\"minutes\"]\n",
    "for i in list2:\n",
    "    df.drop(i,axis=1,inplace=True)"
   ]
  },
  {
   "cell_type": "code",
   "execution_count": 11,
   "metadata": {},
   "outputs": [
    {
     "data": {
      "text/plain": [
       "(162191, 10)"
      ]
     },
     "execution_count": 11,
     "metadata": {},
     "output_type": "execute_result"
    }
   ],
   "source": [
    "# drop the rows which dont have the hour information, total 25418 rows\n",
    "df = df.dropna(axis=0)\n",
    "df.shape"
   ]
  },
  {
   "cell_type": "code",
   "execution_count": 12,
   "metadata": {},
   "outputs": [
    {
     "data": {
      "image/png": "[encoded data removed]",
      "text/plain": [
       "<Figure size 720x432 with 1 Axes>"
      ]
     },
     "metadata": {
      "needs_background": "light"
     },
     "output_type": "display_data"
    }
   ],
   "source": [
    "# Briefly check SEVERITYCODE bar chart\n",
    "ax = df['SEVERITYCODE'].value_counts().plot(kind='bar', figsize=(10, 6), width=0.4)\n",
    "#fig, axes = plt.subplots(nrows=5, ncols=1, figsize=(14,5)) \n",
    "ax.set_title('SeverityCode Bar Chart', fontsize=15)\n",
    "ax.tick_params(axis=\"x\", labelsize=14)\n",
    "ax.spines['top'].set_visible(False)\n",
    "ax.spines['right'].set_visible(False)\n",
    "ax.spines['left'].set_visible(False)\n",
    "ax.get_yaxis().set_ticks([])\n",
    "xticklabels =df['SEVERITYCODE'].value_counts().index\n",
    "for p in ax.patches:\n",
    "    ax.annotate('{:.0f}'.format(p.get_height()), (p.get_x()+0.10, p.get_height()+3500),fontsize=14)\n",
    "ax.set_xticklabels(xticklabels, rotation = 0);"
   ]
  },
  {
   "cell_type": "code",
   "execution_count": 13,
   "metadata": {},
   "outputs": [],
   "source": [
    "# Convert Date from str to int type\n",
    "df=df.astype({\"UNDERINFL\":str, \"MONTH\":int, \"HOUR\":int})"
   ]
  },
  {
   "cell_type": "code",
   "execution_count": 14,
   "metadata": {},
   "outputs": [
    {
     "data": {
      "text/plain": [
       "<matplotlib.axes._subplots.AxesSubplot at 0x7face181e1d0>"
      ]
     },
     "execution_count": 14,
     "metadata": {},
     "output_type": "execute_result"
    },
    {
     "data": {
      "image/png": "[encoded data removed]",
      "text/plain": [
       "<Figure size 432x288 with 1 Axes>"
      ]
     },
     "metadata": {
      "needs_background": "light"
     },
     "output_type": "display_data"
    },
    {
     "data": {
      "image/png": "[encoded data removed]",
      "text/plain": [
       "<Figure size 432x288 with 1 Axes>"
      ]
     },
     "metadata": {
      "needs_background": "light"
     },
     "output_type": "display_data"
    }
   ],
   "source": [
    "df[[\"MONTH\", \"PERSONCOUNT\"]].groupby(\"MONTH\").sum().plot(kind=\"bar\")\n",
    "df[[\"HOUR\", \"PERSONCOUNT\"]].groupby(\"HOUR\").sum().plot(kind=\"bar\")"
   ]
  },
  {
   "cell_type": "code",
   "execution_count": 20,
   "metadata": {},
   "outputs": [],
   "source": [
    "df[\"ADDRTYPE\"]=df[\"ADDRTYPE\"].replace([\"Block\",\"Intersection\",\"Alley\"], [1,2,3])\n",
    "df[\"COLLISIONTYPE\"]=df[\"COLLISIONTYPE\"].replace([\"Parked Car\",\"Angles\",\"Rear Ended\",\"Other\",\"Sideswipe\",\"Left Turn\",\"Pedestrian\",\"Cycles\",\"Right Turn\",\"Head On\"], [1,2,3,4,5,6,7,8,9,0])\n",
    "df[\"UNDERINFL\"]=df[\"UNDERINFL\"].replace([\"Y\",\"N\"], [\"1\",\"0\"])\n",
    "df=df.astype({\"UNDERINFL\":int})\n",
    "df[\"ROADCOND\"]=df[\"ROADCOND\"].replace([\"Dry\",\"Wet\",\"Unknown\",\"Ice\",\"Snow/Slush\",\"Other\",\"Standing Water\",\"Sand/Mud/Dirt\",\"Oil\"],[1,2,3,4,5,6,7,8,9])\n",
    "df[\"LIGHTCOND\"]=df[\"LIGHTCOND\"].replace([\"Daylight\",\"Dark - Street Lights On\",\"Unknown\",\"Dusk\",\"Dawn\",\"Dark - No Street Lights\",\"Dark - Street Lights Off\",\"Other\",\"Dark - Unknown Lighting\"],[1,2,3,4,5,6,7,8,9])"
   ]
  },
  {
   "cell_type": "markdown",
   "metadata": {},
   "source": [
    "## Supervised Learning Models"
   ]
  },
  {
   "cell_type": "markdown",
   "metadata": {},
   "source": [
    "Since this project has a sample of data and desired output \"SEVERITYCODE\", supervised learning models are going to be used. "
   ]
  },
  {
   "cell_type": "code",
   "execution_count": 38,
   "metadata": {},
   "outputs": [],
   "source": [
    "# import modules\n",
    "from sklearn.model_selection import train_test_split\n",
    "from sklearn import linear_model\n",
    "from sklearn.preprocessing import PolynomialFeatures\n",
    "from sklearn.neighbors import KNeighborsClassifier\n",
    "from sklearn.tree import DecisionTreeClassifier\n",
    "from sklearn.tree import plot_tree"
   ]
  },
  {
   "cell_type": "code",
   "execution_count": 22,
   "metadata": {},
   "outputs": [],
   "source": [
    "# split dataset into train and test\n",
    "X = df[['SEVERITYCODE']]\n",
    "y = df.loc[:, df.columns != 'SEVERITYCODE']\n",
    "X_train, X_test, y_train, y_test = train_test_split(X,y,test_size=0.4, random_state=21)"
   ]
  },
  {
   "cell_type": "code",
   "execution_count": 23,
   "metadata": {},
   "outputs": [
    {
     "data": {
      "text/html": [
       "<div>\n",
       "<style scoped>\n",
       "    .dataframe tbody tr th:only-of-type {\n",
       "        vertical-align: middle;\n",
       "    }\n",
       "\n",
       "    .dataframe tbody tr th {\n",
       "        vertical-align: top;\n",
       "    }\n",
       "\n",
       "    .dataframe thead th {\n",
       "        text-align: right;\n",
       "    }\n",
       "</style>\n",
       "<table border=\"1\" class=\"dataframe\">\n",
       "  <thead>\n",
       "    <tr style=\"text-align: right;\">\n",
       "      <th></th>\n",
       "      <th>ADDRTYPE</th>\n",
       "      <th>COLLISIONTYPE</th>\n",
       "      <th>PERSONCOUNT</th>\n",
       "      <th>VEHCOUNT</th>\n",
       "      <th>UNDERINFL</th>\n",
       "      <th>ROADCOND</th>\n",
       "      <th>LIGHTCOND</th>\n",
       "      <th>MONTH</th>\n",
       "      <th>HOUR</th>\n",
       "    </tr>\n",
       "  </thead>\n",
       "  <tbody>\n",
       "    <tr>\n",
       "      <th>166378</th>\n",
       "      <td>1</td>\n",
       "      <td>2</td>\n",
       "      <td>2</td>\n",
       "      <td>2</td>\n",
       "      <td>0</td>\n",
       "      <td>1</td>\n",
       "      <td>1</td>\n",
       "      <td>5</td>\n",
       "      <td>14</td>\n",
       "    </tr>\n",
       "    <tr>\n",
       "      <th>123757</th>\n",
       "      <td>1</td>\n",
       "      <td>3</td>\n",
       "      <td>3</td>\n",
       "      <td>2</td>\n",
       "      <td>0</td>\n",
       "      <td>2</td>\n",
       "      <td>1</td>\n",
       "      <td>11</td>\n",
       "      <td>8</td>\n",
       "    </tr>\n",
       "    <tr>\n",
       "      <th>146055</th>\n",
       "      <td>1</td>\n",
       "      <td>6</td>\n",
       "      <td>2</td>\n",
       "      <td>2</td>\n",
       "      <td>0</td>\n",
       "      <td>1</td>\n",
       "      <td>1</td>\n",
       "      <td>9</td>\n",
       "      <td>12</td>\n",
       "    </tr>\n",
       "    <tr>\n",
       "      <th>184561</th>\n",
       "      <td>1</td>\n",
       "      <td>1</td>\n",
       "      <td>2</td>\n",
       "      <td>2</td>\n",
       "      <td>0</td>\n",
       "      <td>1</td>\n",
       "      <td>2</td>\n",
       "      <td>7</td>\n",
       "      <td>0</td>\n",
       "    </tr>\n",
       "    <tr>\n",
       "      <th>147401</th>\n",
       "      <td>1</td>\n",
       "      <td>3</td>\n",
       "      <td>0</td>\n",
       "      <td>2</td>\n",
       "      <td>0</td>\n",
       "      <td>2</td>\n",
       "      <td>1</td>\n",
       "      <td>10</td>\n",
       "      <td>14</td>\n",
       "    </tr>\n",
       "  </tbody>\n",
       "</table>\n",
       "</div>"
      ],
      "text/plain": [
       "        ADDRTYPE  COLLISIONTYPE  PERSONCOUNT  VEHCOUNT  UNDERINFL  ROADCOND  \\\n",
       "166378         1              2            2         2          0         1   \n",
       "123757         1              3            3         2          0         2   \n",
       "146055         1              6            2         2          0         1   \n",
       "184561         1              1            2         2          0         1   \n",
       "147401         1              3            0         2          0         2   \n",
       "\n",
       "        LIGHTCOND  MONTH  HOUR  \n",
       "166378          1      5    14  \n",
       "123757          1     11     8  \n",
       "146055          1      9    12  \n",
       "184561          2      7     0  \n",
       "147401          1     10    14  "
      ]
     },
     "execution_count": 23,
     "metadata": {},
     "output_type": "execute_result"
    }
   ],
   "source": [
    "y_train.head()"
   ]
  },
  {
   "cell_type": "code",
   "execution_count": 24,
   "metadata": {},
   "outputs": [
    {
     "name": "stderr",
     "output_type": "stream",
     "text": [
      "/Users/liuqi/anaconda3/lib/python3.7/site-packages/sklearn/base.py:420: FutureWarning: The default value of multioutput (not exposed in score method) will change from 'variance_weighted' to 'uniform_average' in 0.23 to keep consistent with 'metrics.r2_score'. To specify the default value manually and avoid the warning, please either call 'metrics.r2_score' directly or make a custom scorer with 'metrics.make_scorer' (the built-in scorer 'r2' uses multioutput='uniform_average').\n",
      "  \"multioutput='uniform_average').\", FutureWarning)\n"
     ]
    },
    {
     "data": {
      "text/plain": [
       "0.006945335590865957"
      ]
     },
     "execution_count": 24,
     "metadata": {},
     "output_type": "execute_result"
    }
   ],
   "source": [
    "reg = linear_model.LinearRegression()\n",
    "reg.fit(X_train,y_train)\n",
    "y_pred = reg.predict(X_test)\n",
    "reg.score(X_test,y_test)"
   ]
  },
  {
   "cell_type": "code",
   "execution_count": 26,
   "metadata": {},
   "outputs": [
    {
     "name": "stdout",
     "output_type": "stream",
     "text": [
      "Coefficients: \n",
      " [[ 0.19920801]\n",
      " [ 1.1295742 ]\n",
      " [ 0.3686585 ]\n",
      " [-0.09957209]\n",
      " [ 0.01848707]\n",
      " [-0.16525701]\n",
      " [-0.16830183]\n",
      " [ 0.02008139]\n",
      " [ 0.31911644]]\n"
     ]
    }
   ],
   "source": [
    "print('Coefficients: \\n', reg.coef_)"
   ]
  },
  {
   "cell_type": "markdown",
   "metadata": {},
   "source": [
    "After checking the correlation coefficient, it's easy to see this is a non-linear model. Hence let's try PolynomialFeatures."
   ]
  },
  {
   "cell_type": "code",
   "execution_count": 37,
   "metadata": {},
   "outputs": [
    {
     "data": {
      "text/plain": [
       "array([[ 1,  1,  2, ...,  1, 10, 17],\n",
       "       [ 1,  1,  2, ...,  1, 10, 17],\n",
       "       [ 1,  1,  2, ...,  1, 10, 17],\n",
       "       ...,\n",
       "       [ 1,  3,  2, ...,  1, 10, 17],\n",
       "       [ 1,  1,  2, ...,  1, 10, 17],\n",
       "       [ 1,  1,  2, ...,  1, 10, 17]])"
      ]
     },
     "execution_count": 37,
     "metadata": {},
     "output_type": "execute_result"
    }
   ],
   "source": [
    "tree = DecisionTreeClassifier(criterion=\"entropy\",max_depth=10)\n",
    "tree.fit(X_train,y_train)\n",
    "tree.predict(X_test)"
   ]
  },
  {
   "cell_type": "code",
   "execution_count": 39,
   "metadata": {},
   "outputs": [
    {
     "data": {
      "text/plain": [
       "[Text(167.4, 163.07999999999998, 'X[0] <= 1.5\\nentropy = 1.992\\nsamples = 97314\\nvalue = [[63652, 33284, 378, 0, 0, 0, 0, 0, 0, 0, 0, 0\\n 0, 0, 0, 0, 0, 0, 0, 0, 0, 0, 0, 0, 0, 0\\n 0, 0, 0, 0, 0, 0, 0, 0, 0, 0, 0, 0, 0, 0]\\n[1072, 23945, 18204, 17498, 11863, 9763, 7128, 3459\\n 2863, 1519, 0, 0, 0, 0, 0, 0, 0, 0, 0, 0, 0\\n 0, 0, 0, 0, 0, 0, 0, 0, 0, 0, 0, 0, 0, 0\\n 0, 0, 0, 0, 0]\\n[3239, 6069, 56351, 18241, 7520, 3406, 1365, 573, 272\\n 103, 60, 25, 15, 11, 13, 4, 3, 3, 3, 4, 4, 1\\n 2, 2, 1, 4, 1, 1, 1, 2, 3, 1, 2, 1, 1, 1\\n 1, 2, 2, 1]\\n[107, 13377, 75460, 6759, 1235, 261, 77, 21, 8, 5\\n 2, 2, 0, 0, 0, 0, 0, 0, 0, 0, 0, 0, 0, 0\\n 0, 0, 0, 0, 0, 0, 0, 0, 0, 0, 0, 0, 0, 0\\n 0, 0]\\n[92672, 4642, 0, 0, 0, 0, 0, 0, 0, 0, 0, 0, 0\\n 0, 0, 0, 0, 0, 0, 0, 0, 0, 0, 0, 0, 0, 0\\n 0, 0, 0, 0, 0, 0, 0, 0, 0, 0, 0, 0, 0]\\n[64440, 24359, 7166, 642, 522, 68, 55, 38, 24, 0\\n 0, 0, 0, 0, 0, 0, 0, 0, 0, 0, 0, 0, 0, 0\\n 0, 0, 0, 0, 0, 0, 0, 0, 0, 0, 0, 0, 0, 0\\n 0, 0]\\n[60006, 25064, 6472, 2959, 1266, 808, 611, 124, 4\\n 0, 0, 0, 0, 0, 0, 0, 0, 0, 0, 0, 0, 0, 0\\n 0, 0, 0, 0, 0, 0, 0, 0, 0, 0, 0, 0, 0, 0\\n 0, 0, 0]\\n[8265, 6827, 8057, 7900, 8334, 8304, 8271, 8153, 8036\\n 9011, 8344, 7812, 0, 0, 0, 0, 0, 0, 0, 0, 0\\n 0, 0, 0, 0, 0, 0, 0, 0, 0, 0, 0, 0, 0, 0\\n 0, 0, 0, 0, 0]\\n[2306, 2085, 2095, 978, 719, 968, 1859, 3870, 5098\\n 4765, 4412, 4913, 6152, 6070, 6348, 6916, 7113, 7628\\n 5726, 4305, 3641, 3336, 3270, 2741, 0, 0, 0, 0\\n 0, 0, 0, 0, 0, 0, 0, 0, 0, 0, 0, 0]]'),\n",
       " Text(83.7, 54.360000000000014, 'entropy = 1.933\\nsamples = 67618\\nvalue = [[48414, 18866, 338, 0, 0, 0, 0, 0, 0, 0, 0, 0\\n 0, 0, 0, 0, 0, 0, 0, 0, 0, 0, 0, 0, 0, 0\\n 0, 0, 0, 0, 0, 0, 0, 0, 0, 0, 0, 0, 0, 0]\\n[612, 22546, 11004, 9999, 8805, 8422, 4319, 337, 371\\n 1203, 0, 0, 0, 0, 0, 0, 0, 0, 0, 0, 0, 0\\n 0, 0, 0, 0, 0, 0, 0, 0, 0, 0, 0, 0, 0, 0\\n 0, 0, 0, 0]\\n[2197, 4487, 42292, 11312, 4296, 1850, 683, 251, 121\\n 38, 26, 13, 6, 5, 7, 2, 1, 1, 3, 2, 3, 1\\n 1, 1, 0, 3, 1, 1, 1, 1, 1, 1, 2, 1, 0, 1\\n 1, 2, 2, 1]\\n[1, 5996, 56840, 3913, 675, 133, 40, 12, 6, 1, 0\\n 1, 0, 0, 0, 0, 0, 0, 0, 0, 0, 0, 0, 0, 0\\n 0, 0, 0, 0, 0, 0, 0, 0, 0, 0, 0, 0, 0, 0\\n 0]\\n[64774, 2844, 0, 0, 0, 0, 0, 0, 0, 0, 0, 0, 0\\n 0, 0, 0, 0, 0, 0, 0, 0, 0, 0, 0, 0, 0, 0\\n 0, 0, 0, 0, 0, 0, 0, 0, 0, 0, 0, 0, 0]\\n[43505, 16246, 6799, 505, 440, 43, 41, 25, 14, 0\\n 0, 0, 0, 0, 0, 0, 0, 0, 0, 0, 0, 0, 0, 0\\n 0, 0, 0, 0, 0, 0, 0, 0, 0, 0, 0, 0, 0, 0\\n 0, 0]\\n[40017, 17466, 6173, 1940, 842, 635, 445, 96, 4, 0\\n 0, 0, 0, 0, 0, 0, 0, 0, 0, 0, 0, 0, 0, 0\\n 0, 0, 0, 0, 0, 0, 0, 0, 0, 0, 0, 0, 0, 0\\n 0, 0]\\n[5849, 4866, 5596, 5468, 5711, 5786, 5587, 5580, 5569\\n 6163, 5857, 5586, 0, 0, 0, 0, 0, 0, 0, 0, 0\\n 0, 0, 0, 0, 0, 0, 0, 0, 0, 0, 0, 0, 0, 0\\n 0, 0, 0, 0, 0]\\n[1762, 1580, 1601, 769, 549, 686, 1270, 2561, 3520\\n 3339, 3141, 3461, 4353, 4217, 4356, 4657, 4729, 4999\\n 3740, 2938, 2608, 2332, 2363, 2087, 0, 0, 0, 0\\n 0, 0, 0, 0, 0, 0, 0, 0, 0, 0, 0, 0]]'),\n",
       " Text(251.10000000000002, 54.360000000000014, 'entropy = 2.016\\nsamples = 29696\\nvalue = [[15238, 14418, 40, 0, 0, 0, 0, 0, 0, 0, 0, 0\\n 0, 0, 0, 0, 0, 0, 0, 0, 0, 0, 0, 0, 0, 0\\n 0, 0, 0, 0, 0, 0, 0, 0, 0, 0, 0, 0, 0, 0]\\n[460, 1399, 7200, 7499, 3058, 1341, 2809, 3122, 2492\\n 316, 0, 0, 0, 0, 0, 0, 0, 0, 0, 0, 0, 0, 0\\n 0, 0, 0, 0, 0, 0, 0, 0, 0, 0, 0, 0, 0, 0\\n 0, 0, 0]\\n[1042, 1582, 14059, 6929, 3224, 1556, 682, 322, 151\\n 65, 34, 12, 9, 6, 6, 2, 2, 2, 0, 2, 1, 0\\n 1, 1, 1, 1, 0, 0, 0, 1, 2, 0, 0, 0, 1, 0\\n 0, 0, 0, 0]\\n[106, 7381, 18620, 2846, 560, 128, 37, 9, 2, 4, 2\\n 1, 0, 0, 0, 0, 0, 0, 0, 0, 0, 0, 0, 0, 0\\n 0, 0, 0, 0, 0, 0, 0, 0, 0, 0, 0, 0, 0, 0\\n 0]\\n[27898, 1798, 0, 0, 0, 0, 0, 0, 0, 0, 0, 0, 0\\n 0, 0, 0, 0, 0, 0, 0, 0, 0, 0, 0, 0, 0, 0\\n 0, 0, 0, 0, 0, 0, 0, 0, 0, 0, 0, 0, 0]\\n[20935, 8113, 367, 137, 82, 25, 14, 13, 10, 0, 0\\n 0, 0, 0, 0, 0, 0, 0, 0, 0, 0, 0, 0, 0, 0\\n 0, 0, 0, 0, 0, 0, 0, 0, 0, 0, 0, 0, 0, 0\\n 0]\\n[19989, 7598, 299, 1019, 424, 173, 166, 28, 0, 0\\n 0, 0, 0, 0, 0, 0, 0, 0, 0, 0, 0, 0, 0, 0\\n 0, 0, 0, 0, 0, 0, 0, 0, 0, 0, 0, 0, 0, 0\\n 0, 0]\\n[2416, 1961, 2461, 2432, 2623, 2518, 2684, 2573, 2467\\n 2848, 2487, 2226, 0, 0, 0, 0, 0, 0, 0, 0, 0\\n 0, 0, 0, 0, 0, 0, 0, 0, 0, 0, 0, 0, 0, 0\\n 0, 0, 0, 0, 0]\\n[544, 505, 494, 209, 170, 282, 589, 1309, 1578\\n 1426, 1271, 1452, 1799, 1853, 1992, 2259, 2384, 2629\\n 1986, 1367, 1033, 1004, 907, 654, 0, 0, 0, 0, 0\\n 0, 0, 0, 0, 0, 0, 0, 0, 0, 0, 0]]')]"
      ]
     },
     "execution_count": 39,
     "metadata": {},
     "output_type": "execute_result"
    },
    {
     "data": {
      "image/png": "[encoded data removed]",
      "text/plain": [
       "<Figure size 432x288 with 1 Axes>"
      ]
     },
     "metadata": {
      "needs_background": "light"
     },
     "output_type": "display_data"
    }
   ],
   "source": [
    "plot_tree(tree)"
   ]
  },
  {
   "cell_type": "code",
   "execution_count": null,
   "metadata": {},
   "outputs": [],
   "source": []
  }
 ],
 "metadata": {
  "kernelspec": {
   "display_name": "Python 3",
   "language": "python",
   "name": "python3"
  },
  "language_info": {
   "codemirror_mode": {
    "name": "ipython",
    "version": 3
   },
   "file_extension": ".py",
   "mimetype": "text/x-python",
   "name": "python",
   "nbconvert_exporter": "python",
   "pygments_lexer": "ipython3",
   "version": "3.7.3"
  }
 },
 "nbformat": 4,
 "nbformat_minor": 2
}
